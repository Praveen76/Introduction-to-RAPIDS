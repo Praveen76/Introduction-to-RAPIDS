{
  "cells": [
    {
      "cell_type": "markdown",
      "metadata": {
        "id": "view-in-github",
        "colab_type": "text"
      },
      "source": [
        "<a href=\"https://colab.research.google.com/github/Praveen76/Introduction-to-RAPIDS/blob/main/Introduction_to_RAPIDS.ipynb\" target=\"_parent\"><img src=\"https://colab.research.google.com/assets/colab-badge.svg\" alt=\"Open In Colab\"/></a>"
      ]
    },
    {
      "cell_type": "markdown",
      "source": [
        "## Learning Objectives\n"
      ],
      "metadata": {
        "id": "XNTY8ezN6JZH"
      }
    },
    {
      "cell_type": "markdown",
      "metadata": {
        "id": "solid-upset"
      },
      "source": [
        "At the end of the experiment, you will be able to:\n",
        "\n",
        "* load, simulate, split data, and check dimensions\n",
        "* convert numpy data to DMatrix format\n",
        "* set the parameters and train the model"
      ]
    },
    {
      "cell_type": "markdown",
      "source": [
        "## Introduction"
      ],
      "metadata": {
        "id": "e8newvEJqhW0"
      }
    },
    {
      "cell_type": "markdown",
      "metadata": {
        "id": "jd-0UJIFtYAm"
      },
      "source": [
        "While the world’s data doubles each year, CPU computing has hit a brick wall with the end of Moore’s law. For the same reasons, scientific computing and deep learning has turned to NVIDIA GPU acceleration, data analytics and machine learning where GPU acceleration is ideal.\n",
        "\n",
        "NVIDIA created RAPIDS, an open source data analytics and machine learning acceleration platform that leverages GPUs to accelerate computations.\n",
        "\n",
        "<br>\n",
        "<img src='https://rapids.ai/images/RAPIDS-logo.png' width=180px>\n",
        "\n",
        "RAPIDS is based on Python, has pandas like and `scikit-learn` like interfaces, is built on `apache arrow` in memory data format, and can scale from 1 to multi GPU to multi nodes. RAPIDS integrates easily into the world’s most popular data science Python based workflows. RAPIDS accelerates data science from data preparation, machine learning, to deep learning. Through Arrow, Spark users can easily move data into the RAPIDS platform for acceleration.\n",
        "\n",
        "In this notebook, the acceleration will be demonstrated by using GPUs with XGBoost in RAPIDS.\n",
        "\n",
        "To know more about RAPIDS, refer [here](https://rapids.ai/)."
      ]
    },
    {
      "cell_type": "markdown",
      "metadata": {
        "id": "b8ZyR1qqtr6_"
      },
      "source": [
        "### Setup Steps:"
      ]
    },
    {
      "cell_type": "markdown",
      "metadata": {
        "id": "b3600ee25c8e"
      },
      "source": [
        "### Import necessary libraries"
      ]
    },
    {
      "cell_type": "code",
      "execution_count": 4,
      "metadata": {
        "ExecuteTime": {
          "end_time": "2018-11-06T21:03:41.067879Z",
          "start_time": "2018-11-06T21:03:40.256654Z"
        },
        "id": "0q38cc34tYA3"
      },
      "outputs": [],
      "source": [
        "import numpy as np\n",
        "import pandas as pd\n",
        "import xgboost as xgb"
      ]
    },
    {
      "cell_type": "markdown",
      "source": [
        "### Check the version of the imported libraries"
      ],
      "metadata": {
        "id": "21G24GSZT7-5"
      }
    },
    {
      "cell_type": "code",
      "source": [
        "print('numpy Version:', np.__version__)\n",
        "print('pandas Version:', pd.__version__)\n",
        "print('XGBoost Version:', xgb.__version__)"
      ],
      "metadata": {
        "id": "PpgT0XER6hR-",
        "outputId": "4aa41155-7c95-48ce-874c-850207bdf33c",
        "colab": {
          "base_uri": "https://localhost:8080/"
        }
      },
      "execution_count": 5,
      "outputs": [
        {
          "output_type": "stream",
          "name": "stdout",
          "text": [
            "numpy Version: 1.25.2\n",
            "pandas Version: 2.0.3\n",
            "XGBoost Version: 2.0.3\n"
          ]
        }
      ]
    },
    {
      "cell_type": "markdown",
      "source": [
        "Make sure you are connected with GPU runtime in colab.\n",
        "\n",
        "> Click the _Runtime_ dropdown at the top of the page, then _Change Runtime Type_ and confirm the instance type is _GPU_."
      ],
      "metadata": {
        "id": "69-iLFQq5Uo1"
      }
    },
    {
      "cell_type": "markdown",
      "source": [
        "**Requirements for using RAPIDS:**\n",
        "\n",
        "1. NVIDIA Volta™ or higher GPU with compute capability 7.0+\n",
        "\n",
        "2. Ubuntu 20.04 or 22.04, CentOS 7, Rocky Linux 8, or WSL2 on Windows 11\n",
        "\n",
        "3. Recent CUDA version and NVIDIA driver pairs. Check yours with: `nvidia-smi`"
      ],
      "metadata": {
        "id": "n4vgKn1eyUZF"
      }
    },
    {
      "cell_type": "markdown",
      "source": [
        "Check OS:"
      ],
      "metadata": {
        "id": "Dra3nTwEzHNr"
      }
    },
    {
      "cell_type": "code",
      "source": [
        "!lsb_release -a"
      ],
      "metadata": {
        "id": "TWv8ErMWy9lC",
        "outputId": "fcfc1a76-cc99-4a6a-eb3b-70fe86e3e415",
        "colab": {
          "base_uri": "https://localhost:8080/"
        }
      },
      "execution_count": 6,
      "outputs": [
        {
          "output_type": "stream",
          "name": "stdout",
          "text": [
            "No LSB modules are available.\n",
            "Distributor ID:\tUbuntu\n",
            "Description:\tUbuntu 22.04.3 LTS\n",
            "Release:\t22.04\n",
            "Codename:\tjammy\n"
          ]
        }
      ]
    },
    {
      "cell_type": "markdown",
      "metadata": {
        "id": "5r9T5YAYtYA1"
      },
      "source": [
        "Check the CUDA version:"
      ]
    },
    {
      "cell_type": "code",
      "execution_count": 7,
      "metadata": {
        "ExecuteTime": {
          "end_time": "2018-11-06T21:03:39.490984Z",
          "start_time": "2018-11-06T21:03:39.134608Z"
        },
        "id": "KyzVE0c4tYA2",
        "outputId": "62b604bd-5879-4e05-a7e0-3d650b0ec789",
        "colab": {
          "base_uri": "https://localhost:8080/"
        }
      },
      "outputs": [
        {
          "output_type": "stream",
          "name": "stdout",
          "text": [
            "nvcc: NVIDIA (R) Cuda compiler driver\n",
            "Copyright (c) 2005-2023 NVIDIA Corporation\n",
            "Built on Tue_Aug_15_22:02:13_PDT_2023\n",
            "Cuda compilation tools, release 12.2, V12.2.140\n",
            "Build cuda_12.2.r12.2/compiler.33191640_0\n"
          ]
        }
      ],
      "source": [
        "!nvcc --version"
      ]
    },
    {
      "cell_type": "code",
      "execution_count": 8,
      "metadata": {
        "ExecuteTime": {
          "end_time": "2018-11-06T21:03:38.237293Z",
          "start_time": "2018-11-06T21:03:37.388285Z"
        },
        "id": "pqx5Cd9RtYAx",
        "outputId": "7913777b-57e1-45d8-9a70-5c500b84f83c",
        "colab": {
          "base_uri": "https://localhost:8080/"
        }
      },
      "outputs": [
        {
          "output_type": "stream",
          "name": "stdout",
          "text": [
            "Mon Jun 17 17:04:14 2024       \n",
            "+---------------------------------------------------------------------------------------+\n",
            "| NVIDIA-SMI 535.104.05             Driver Version: 535.104.05   CUDA Version: 12.2     |\n",
            "|-----------------------------------------+----------------------+----------------------+\n",
            "| GPU  Name                 Persistence-M | Bus-Id        Disp.A | Volatile Uncorr. ECC |\n",
            "| Fan  Temp   Perf          Pwr:Usage/Cap |         Memory-Usage | GPU-Util  Compute M. |\n",
            "|                                         |                      |               MIG M. |\n",
            "|=========================================+======================+======================|\n",
            "|   0  Tesla T4                       Off | 00000000:00:04.0 Off |                    0 |\n",
            "| N/A   38C    P8               9W /  70W |      0MiB / 15360MiB |      0%      Default |\n",
            "|                                         |                      |                  N/A |\n",
            "+-----------------------------------------+----------------------+----------------------+\n",
            "                                                                                         \n",
            "+---------------------------------------------------------------------------------------+\n",
            "| Processes:                                                                            |\n",
            "|  GPU   GI   CI        PID   Type   Process name                            GPU Memory |\n",
            "|        ID   ID                                                             Usage      |\n",
            "|=======================================================================================|\n",
            "|  No running processes found                                                           |\n",
            "+---------------------------------------------------------------------------------------+\n"
          ]
        }
      ],
      "source": [
        "# Check GPU\n",
        "!nvidia-smi"
      ]
    },
    {
      "cell_type": "markdown",
      "source": [
        "Colab's Tesla T4 GPU has compute capability 7.5"
      ],
      "metadata": {
        "id": "R2b050lIz5cq"
      }
    },
    {
      "cell_type": "markdown",
      "metadata": {
        "id": "N5OEfaJVtYA4"
      },
      "source": [
        "## Load/Simulate data\n",
        "\n",
        "### Load Data\n",
        "\n",
        "The data can be loaded using `pandas.read_csv`.\n"
      ]
    },
    {
      "cell_type": "code",
      "source": [
        "# helper function for loading data\n",
        "def load_data(filename, n_rows):\n",
        "    if n_rows >= 1e9:    # If number of rows are greater than the threshold value\n",
        "        df = pd.read_csv(filename, nrows=n_rows)\n",
        "    else:\n",
        "        df = pd.read_csv(filename)\n",
        "    return df.values.astype(np.float32)"
      ],
      "metadata": {
        "id": "9wV4GJuKzX8f"
      },
      "execution_count": 9,
      "outputs": []
    },
    {
      "cell_type": "markdown",
      "source": [
        "### Simulate Data\n",
        "\n",
        "The features will be tabular with `n_rows` and `n_columns` in the training dataset, where each value is either of type `np.float32` if the data is numerical or `np.uint8` if the data is categorical. Both numerical and categorical data can also be combined. In this experiment, this combination is not utlised."
      ],
      "metadata": {
        "id": "dzLrlrFUzbCR"
      }
    },
    {
      "cell_type": "code",
      "execution_count": 10,
      "metadata": {
        "id": "5WVCA-5BtYA5"
      },
      "outputs": [],
      "source": [
        "# helper function for simulating data\n",
        "def simulate_data(m, n, k=2, numerical=False):\n",
        "    if numerical:\n",
        "        features = np.random.rand(m, n)\n",
        "    else:\n",
        "        features = np.random.randint(2, size=(m, n))\n",
        "    labels = np.random.randint(k, size=m)\n",
        "    return np.c_[labels, features].astype(np.float32)"
      ]
    },
    {
      "cell_type": "markdown",
      "source": [
        "Define the number of rows, number of columns to be read.\n",
        "\n",
        "If LOAD = False, the data will be simulated."
      ],
      "metadata": {
        "id": "1v05pQWr3qf0"
      }
    },
    {
      "cell_type": "code",
      "execution_count": 11,
      "metadata": {
        "id": "6iKMHOAftYA6"
      },
      "outputs": [],
      "source": [
        "# settings\n",
        "LOAD = False\n",
        "n_rows = int(1e5)\n",
        "n_columns = int(100)\n",
        "n_categories = 2"
      ]
    },
    {
      "cell_type": "markdown",
      "source": [
        "Depending on the 'LOAD' boolean value, either load or simulate the data."
      ],
      "metadata": {
        "id": "D5ghnvzL35Q7"
      }
    },
    {
      "cell_type": "code",
      "execution_count": 12,
      "metadata": {
        "id": "4rChZ0tBtYA7",
        "outputId": "5e4add8b-8dda-44f8-d39c-812c08933fba",
        "colab": {
          "base_uri": "https://localhost:8080/"
        }
      },
      "outputs": [
        {
          "output_type": "stream",
          "name": "stdout",
          "text": [
            "(100000, 101)\n",
            "CPU times: user 71 ms, sys: 34.1 ms, total: 105 ms\n",
            "Wall time: 105 ms\n"
          ]
        }
      ],
      "source": [
        "%%time\n",
        "\n",
        "if LOAD:\n",
        "    dataset = load_data('/tmp', n_rows)\n",
        "else:\n",
        "    dataset = simulate_data(n_rows, n_columns, n_categories)\n",
        "print(dataset.shape)"
      ]
    },
    {
      "cell_type": "code",
      "source": [
        "# Few rows of the dataset\n",
        "dataset[0:2, :]"
      ],
      "metadata": {
        "id": "qbArrDoX8o7t",
        "outputId": "c4f195ac-8acb-47bc-fce0-4d6e8df4525d",
        "colab": {
          "base_uri": "https://localhost:8080/"
        }
      },
      "execution_count": 13,
      "outputs": [
        {
          "output_type": "execute_result",
          "data": {
            "text/plain": [
              "array([[0., 0., 1., 1., 1., 1., 1., 0., 1., 0., 0., 0., 0., 0., 1., 1.,\n",
              "        1., 1., 1., 1., 0., 0., 1., 1., 1., 0., 0., 0., 0., 1., 0., 0.,\n",
              "        0., 0., 1., 1., 1., 1., 0., 0., 1., 0., 0., 0., 0., 0., 1., 0.,\n",
              "        0., 1., 0., 1., 0., 1., 0., 1., 0., 1., 1., 1., 0., 1., 0., 0.,\n",
              "        0., 0., 0., 0., 1., 0., 1., 0., 0., 0., 1., 1., 1., 1., 1., 0.,\n",
              "        1., 0., 1., 0., 1., 1., 0., 0., 0., 0., 1., 0., 0., 0., 0., 1.,\n",
              "        0., 1., 1., 0., 1.],\n",
              "       [0., 1., 0., 1., 1., 1., 1., 1., 1., 1., 0., 0., 0., 0., 0., 0.,\n",
              "        1., 1., 0., 1., 1., 1., 0., 0., 0., 1., 0., 0., 1., 1., 0., 0.,\n",
              "        0., 0., 1., 0., 1., 1., 1., 0., 1., 0., 1., 1., 1., 0., 1., 1.,\n",
              "        1., 1., 1., 1., 1., 0., 1., 0., 1., 1., 1., 1., 1., 0., 0., 1.,\n",
              "        0., 1., 0., 0., 1., 0., 0., 1., 0., 1., 0., 0., 0., 0., 0., 1.,\n",
              "        1., 1., 0., 0., 0., 0., 1., 0., 1., 1., 0., 0., 0., 0., 1., 0.,\n",
              "        0., 1., 1., 0., 0.]], dtype=float32)"
            ]
          },
          "metadata": {},
          "execution_count": 13
        }
      ]
    },
    {
      "cell_type": "markdown",
      "metadata": {
        "id": "yMyO8h8DtYA8"
      },
      "source": [
        "### Split Data\n",
        "\n",
        "Split the dataset into a 80% training dataset and a 20% test dataset."
      ]
    },
    {
      "cell_type": "code",
      "source": [
        "# identify shape and indices\n",
        "n_rows, n_columns = dataset.shape\n",
        "train_size = 0.80\n",
        "train_index = int(n_rows * train_size)\n",
        "\n",
        "print(\"number of rows is equal to\", n_rows)\n",
        "print(\"number of columns is equal to\", n_columns)\n",
        "print(\"The train index is equal to\", train_index)"
      ],
      "metadata": {
        "id": "_bJ4HP9b-V5T",
        "outputId": "973007b3-45e6-4739-f9c7-1504d4a7969f",
        "colab": {
          "base_uri": "https://localhost:8080/"
        }
      },
      "execution_count": 14,
      "outputs": [
        {
          "output_type": "stream",
          "name": "stdout",
          "text": [
            "number of rows is equal to 100000\n",
            "number of columns is equal to 101\n",
            "The train index is equal to 80000\n"
          ]
        }
      ]
    },
    {
      "cell_type": "markdown",
      "source": [
        "#### Split the data into features and target"
      ],
      "metadata": {
        "id": "YWjDwtyvRSdC"
      }
    },
    {
      "cell_type": "code",
      "source": [
        "# split X, y\n",
        "X, y = dataset[:, 1:], dataset[:, 0]\n",
        "del dataset"
      ],
      "metadata": {
        "id": "QOm3VDrVRMzl"
      },
      "execution_count": 15,
      "outputs": []
    },
    {
      "cell_type": "code",
      "source": [
        "# split train data\n",
        "X_train, y_train = X[:train_index, :], y[:train_index]"
      ],
      "metadata": {
        "id": "mBMTB1anRizH"
      },
      "execution_count": 16,
      "outputs": []
    },
    {
      "cell_type": "code",
      "execution_count": 17,
      "metadata": {
        "id": "Vzv2avKZtYA8"
      },
      "outputs": [],
      "source": [
        "# split test data\n",
        "X_test, y_test = X[train_index:, :], y[train_index:]"
      ]
    },
    {
      "cell_type": "markdown",
      "metadata": {
        "id": "iq-a0J3htYA8"
      },
      "source": [
        "### Check Dimensions\n",
        "\n",
        "Check the dimensions and proportions of the training and test datasets."
      ]
    },
    {
      "cell_type": "code",
      "source": [
        "# check dimensions\n",
        "print('X_train: ', X_train.shape, X_train.dtype, 'y_train: ', y_train.shape, y_train.dtype)\n",
        "print('X_test', X_test.shape, X_test.dtype, 'y_test: ', y_test.shape, y_test.dtype)"
      ],
      "metadata": {
        "id": "a00DqP-duV9e",
        "outputId": "6237c727-9dd1-4f65-913b-ee6f1a767514",
        "colab": {
          "base_uri": "https://localhost:8080/"
        }
      },
      "execution_count": 18,
      "outputs": [
        {
          "output_type": "stream",
          "name": "stdout",
          "text": [
            "X_train:  (80000, 100) float32 y_train:  (80000,) float32\n",
            "X_test (20000, 100) float32 y_test:  (20000,) float32\n"
          ]
        }
      ]
    },
    {
      "cell_type": "code",
      "execution_count": 19,
      "metadata": {
        "id": "LuYlxDGctYA9",
        "outputId": "6fd19637-6f92-433b-d2d3-0213e1451744",
        "colab": {
          "base_uri": "https://localhost:8080/"
        }
      },
      "outputs": [
        {
          "output_type": "stream",
          "name": "stdout",
          "text": [
            "X_train proportion: 0.8\n",
            "X_test proportion: 0.2\n"
          ]
        }
      ],
      "source": [
        "# check the proportions\n",
        "total = X_train.shape[0] + X_test.shape[0]\n",
        "\n",
        "print('X_train proportion:', X_train.shape[0] / total)\n",
        "print('X_test proportion:', X_test.shape[0] / total)"
      ]
    },
    {
      "cell_type": "markdown",
      "metadata": {
        "id": "1WXKZU8xtYA9"
      },
      "source": [
        "## Convert NumPy data to DMatrix format\n",
        "\n",
        "The data is simulated and formatted as NumPy arrays, next step is to convert this to a `DMatrix` object that XGBoost can work with. Instantiate an object of the `xgboost.DMatrix` by passing in the feature matrix as the first argument followed by the label vector using the `label=` keyword argument. To learn more about XGBoost's support for data structures other than NumPy arrays, see the documentation for the Data Interface [here](https://xgboost.readthedocs.io/en/latest/python/python_intro.html#data-interface)\n",
        "\n",
        "\n",
        "\n"
      ]
    },
    {
      "cell_type": "code",
      "execution_count": 20,
      "metadata": {
        "ExecuteTime": {
          "end_time": "2018-11-06T21:03:55.278322Z",
          "start_time": "2018-11-06T21:03:54.059643Z"
        },
        "id": "YbnlHRwytYA9",
        "outputId": "7680dda5-57ca-4f40-e3e7-3b1794a7a0d3",
        "colab": {
          "base_uri": "https://localhost:8080/"
        }
      },
      "outputs": [
        {
          "output_type": "stream",
          "name": "stdout",
          "text": [
            "CPU times: user 306 ms, sys: 73.7 ms, total: 380 ms\n",
            "Wall time: 365 ms\n"
          ]
        }
      ],
      "source": [
        "%%time\n",
        "\n",
        "dtrain = xgb.DMatrix(X_train, label=y_train)\n",
        "dtest = xgb.DMatrix(X_test, label=y_test)"
      ]
    },
    {
      "cell_type": "markdown",
      "metadata": {
        "id": "71YsoJa4tYA-"
      },
      "source": [
        "## Set Parameters\n",
        "\n",
        "Before running XGBoost, we must set three types of parameters:\n",
        "\n",
        "* **General parameters** relate to which booster is being used to do boosting, commonly tree or linear model\n",
        "\n",
        "* **Booster parameters** depend on which booster is chosen\n",
        "\n",
        "* **Learning task parameters** decide on the learning scenario. For example, regression tasks may use different parameters with ranking tasks.\n",
        "\n",
        "For more information on the configurable parameters within the XGBoost module, see the documentation [here](https://xgboost.readthedocs.io/en/latest/parameter.html)\n",
        "\n",
        "\n"
      ]
    },
    {
      "cell_type": "code",
      "source": [
        "# instantiate params\n",
        "params = {}"
      ],
      "metadata": {
        "id": "qnbJk6rHvhm-"
      },
      "execution_count": 21,
      "outputs": []
    },
    {
      "cell_type": "code",
      "source": [
        "# general params\n",
        "general_params = {'silent': 1}\n",
        "params.update(general_params)"
      ],
      "metadata": {
        "id": "mM4afIBAvk0K"
      },
      "execution_count": 22,
      "outputs": []
    },
    {
      "cell_type": "code",
      "source": [
        "# booster params\n",
        "n_gpus = 2           # no. of GPUs\n",
        "booster_params = {}"
      ],
      "metadata": {
        "id": "mDVMWJaMvoTf"
      },
      "execution_count": 23,
      "outputs": []
    },
    {
      "cell_type": "code",
      "source": [
        "if n_gpus != 0:\n",
        "    booster_params['tree_method'] = 'hist'\n",
        "    booster_params['n_gpus'] = n_gpus\n",
        "params.update(booster_params)"
      ],
      "metadata": {
        "id": "C72fnfSI9E15"
      },
      "execution_count": 24,
      "outputs": []
    },
    {
      "cell_type": "code",
      "execution_count": 25,
      "metadata": {
        "ExecuteTime": {
          "end_time": "2018-11-06T21:03:57.443698Z",
          "start_time": "2018-11-06T21:03:57.438288Z"
        },
        "id": "ro-GhKk0tYA-",
        "outputId": "c698635b-2ef5-47ba-d037-edc8706b6a9a",
        "colab": {
          "base_uri": "https://localhost:8080/"
        }
      },
      "outputs": [
        {
          "output_type": "stream",
          "name": "stdout",
          "text": [
            "{'silent': 1, 'tree_method': 'hist', 'n_gpus': 2, 'eval_metric': 'auc', 'objective': 'binary:logistic'}\n"
          ]
        }
      ],
      "source": [
        "# learning task params\n",
        "learning_task_params = {'eval_metric': 'auc', 'objective': 'binary:logistic'}\n",
        "params.update(learning_task_params)\n",
        "print(params)"
      ]
    },
    {
      "cell_type": "markdown",
      "metadata": {
        "id": "R8th_WOztYA-"
      },
      "source": [
        "## Train Model\n",
        "\n",
        "Use the `xgb.train` function and pass in the parameters, training dataset, the number of boosting iterations, and the list of items to be evaluated during training.\n",
        "\n",
        "For more information on the parameters that can be passed into `xgb.train`, check out the documentation [here](https://xgboost.readthedocs.io/en/latest/python/python_api.html#xgboost.train)\n",
        "\n",
        "\n"
      ]
    },
    {
      "cell_type": "code",
      "execution_count": 26,
      "metadata": {
        "id": "FpdfO5_3tYA-"
      },
      "outputs": [],
      "source": [
        "# model training settings\n",
        "evallist = [(dtest, 'test'), (dtrain, 'train')]\n",
        "num_round = 10"
      ]
    },
    {
      "cell_type": "code",
      "execution_count": 27,
      "metadata": {
        "ExecuteTime": {
          "end_time": "2018-11-06T21:04:50.201308Z",
          "start_time": "2018-11-06T21:04:00.363740Z"
        },
        "id": "ox0sK4yGtYA-",
        "outputId": "92469f37-8ee4-48d2-bf7f-9e92a18efe4b",
        "colab": {
          "base_uri": "https://localhost:8080/"
        }
      },
      "outputs": [
        {
          "output_type": "stream",
          "name": "stderr",
          "text": [
            "/usr/local/lib/python3.10/dist-packages/xgboost/core.py:727: FutureWarning: Pass `evals` as keyword args.\n",
            "  warnings.warn(msg, FutureWarning)\n",
            "/usr/local/lib/python3.10/dist-packages/xgboost/core.py:160: UserWarning: [17:17:30] WARNING: /workspace/src/learner.cc:742: \n",
            "Parameters: { \"n_gpus\", \"silent\" } are not used.\n",
            "\n",
            "  warnings.warn(smsg, UserWarning)\n"
          ]
        },
        {
          "output_type": "stream",
          "name": "stdout",
          "text": [
            "[0]\ttest-auc:0.50183\ttrain-auc:0.54066\n",
            "[1]\ttest-auc:0.50239\ttrain-auc:0.55668\n",
            "[2]\ttest-auc:0.50079\ttrain-auc:0.56981\n",
            "[3]\ttest-auc:0.50178\ttrain-auc:0.57994\n",
            "[4]\ttest-auc:0.50389\ttrain-auc:0.58869\n",
            "[5]\ttest-auc:0.50727\ttrain-auc:0.59655\n",
            "[6]\ttest-auc:0.50479\ttrain-auc:0.60407\n",
            "[7]\ttest-auc:0.50446\ttrain-auc:0.61037\n",
            "[8]\ttest-auc:0.50393\ttrain-auc:0.61690\n",
            "[9]\ttest-auc:0.50193\ttrain-auc:0.62302\n",
            "CPU times: user 1.28 s, sys: 25.7 ms, total: 1.31 s\n",
            "Wall time: 700 ms\n"
          ]
        }
      ],
      "source": [
        "%%time\n",
        "\n",
        "bst = xgb.train(params, dtrain, num_round, evallist)"
      ]
    },
    {
      "cell_type": "markdown",
      "source": [
        "### References"
      ],
      "metadata": {
        "id": "s1nIg2NGwA0i"
      }
    },
    {
      "cell_type": "markdown",
      "metadata": {
        "id": "25iM7lXstYA_"
      },
      "source": [
        "* [Open Source Website](http://rapids.ai)\n",
        "* [GitHub](https://github.com/rapidsai/)\n",
        "* [Press Release](https://nvidianews.nvidia.com/news/nvidia-introduces-rapids-open-source-gpu-acceleration-platform-for-large-scale-data-analytics-and-machine-learning)\n",
        "* [NVIDIA Blog](https://blogs.nvidia.com/blog/2018/10/10/rapids-data-science-open-source-community/)\n",
        "* [Developer Blog](https://devblogs.nvidia.com/gpu-accelerated-analytics-rapids/)\n",
        "* [NVIDIA Data Science Webpage](https://www.nvidia.com/en-us/deep-learning-ai/solutions/data-science/)"
      ]
    }
  ],
  "metadata": {
    "kernelspec": {
      "display_name": "Python 3",
      "name": "python3"
    },
    "language_info": {
      "codemirror_mode": {
        "name": "ipython",
        "version": 3
      },
      "file_extension": ".py",
      "mimetype": "text/x-python",
      "name": "python",
      "nbconvert_exporter": "python",
      "pygments_lexer": "ipython3",
      "version": "3.7.3"
    },
    "colab": {
      "provenance": [],
      "gpuType": "T4",
      "include_colab_link": true
    },
    "accelerator": "GPU"
  },
  "nbformat": 4,
  "nbformat_minor": 0
}